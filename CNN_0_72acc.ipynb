{
 "cells": [
  {
   "cell_type": "code",
   "execution_count": 23,
   "metadata": {
    "execution": {
     "iopub.execute_input": "2022-02-11T10:54:24.844377Z",
     "iopub.status.busy": "2022-02-11T10:54:24.843675Z",
     "iopub.status.idle": "2022-02-11T10:54:24.850290Z",
     "shell.execute_reply": "2022-02-11T10:54:24.849513Z",
     "shell.execute_reply.started": "2022-02-11T10:54:24.844342Z"
    },
    "id": "e6b12f66-e3cb-4600-b5c9-26931e450219"
   },
   "outputs": [],
   "source": [
    "from tensorflow.keras import datasets\n",
    "import numpy as np\n",
    "import matplotlib.pyplot as plt\n",
    "from tensorflow.keras.applications.resnet50 import ResNet50\n",
    "from tensorflow.keras.preprocessing import image\n",
    "from tensorflow.keras import datasets, models, layers, optimizers\n",
    "import tensorflow as tf"
   ]
  },
  {
   "cell_type": "code",
   "execution_count": 24,
   "metadata": {
    "execution": {
     "iopub.execute_input": "2022-02-11T10:54:24.852879Z",
     "iopub.status.busy": "2022-02-11T10:54:24.852362Z",
     "iopub.status.idle": "2022-02-11T10:54:25.589822Z",
     "shell.execute_reply": "2022-02-11T10:54:25.589051Z",
     "shell.execute_reply.started": "2022-02-11T10:54:24.852839Z"
    },
    "id": "bd083a65-cdfc-46e8-b404-10573a2ded9a",
    "outputId": "44848e96-bc93-4b5a-8526-b53b036195c9"
   },
   "outputs": [],
   "source": [
    "#load data\n",
    "(X_train, y_train), (X_test, y_test)=datasets.cifar10.load_data()"
   ]
  },
  {
   "cell_type": "code",
   "execution_count": 25,
   "metadata": {
    "execution": {
     "iopub.execute_input": "2022-02-11T10:54:25.591310Z",
     "iopub.status.busy": "2022-02-11T10:54:25.591058Z",
     "iopub.status.idle": "2022-02-11T10:54:26.176503Z",
     "shell.execute_reply": "2022-02-11T10:54:26.175795Z",
     "shell.execute_reply.started": "2022-02-11T10:54:25.591277Z"
    },
    "id": "0dfeee7a-99ea-451a-bd15-a7513ab9d832",
    "outputId": "4ac27a55-5de9-4a47-c159-cb6140dfbcb0"
   },
   "outputs": [],
   "source": [
    "class_names = ['airplane', 'automobile', 'bird', 'cat', 'deer',\n",
    "               'dog', 'frog', 'horse', 'ship', 'truck']\n",
    "\n",
    "plt.figure(figsize=(15,15))\n",
    "for i in range(16):\n",
    "    plt.subplot(4,4,i+1)\n",
    "    plt.xticks([])\n",
    "    plt.yticks([])\n",
    "    plt.grid(False)\n",
    "    plt.imshow(X_train[i])\n",
    "    plt.xlabel(class_names[y_train[i][0]])\n",
    "plt.show()"
   ]
  },
  {
   "cell_type": "code",
   "execution_count": 26,
   "metadata": {
    "execution": {
     "iopub.execute_input": "2022-02-11T10:54:26.178122Z",
     "iopub.status.busy": "2022-02-11T10:54:26.177757Z",
     "iopub.status.idle": "2022-02-11T10:54:26.626052Z",
     "shell.execute_reply": "2022-02-11T10:54:26.625288Z",
     "shell.execute_reply.started": "2022-02-11T10:54:26.178087Z"
    },
    "id": "6372ce65-dfea-4958-8c4d-12f59cae63cc"
   },
   "outputs": [],
   "source": [
    "# Normalize pixel values to be between 0 and 1\n",
    "X_train, X_test = X_train / 255.0, X_test / 255.0"
   ]
  },
  {
   "cell_type": "markdown",
   "metadata": {
    "id": "2dec3f6c-0353-4132-bad2-c6a13aebfc8a"
   },
   "source": [
    "## CNN"
   ]
  },
  {
   "cell_type": "code",
   "execution_count": 27,
   "metadata": {
    "execution": {
     "iopub.execute_input": "2022-02-11T10:54:26.628597Z",
     "iopub.status.busy": "2022-02-11T10:54:26.628315Z",
     "iopub.status.idle": "2022-02-11T10:54:26.680781Z",
     "shell.execute_reply": "2022-02-11T10:54:26.680189Z",
     "shell.execute_reply.started": "2022-02-11T10:54:26.628559Z"
    },
    "id": "f431c8ba-6f6f-4dde-99f6-52572543278a"
   },
   "outputs": [],
   "source": [
    "model = models.Sequential()\n",
    "\n",
    "model.add(layers.Conv2D(32, (3, 3), activation='relu', input_shape=(32, 32, 3)))\n",
    "model.add(layers.MaxPooling2D((2, 2)))\n",
    "\n",
    "model.add(layers.Conv2D(64, (3, 3), activation='relu'))\n",
    "model.add(layers.MaxPooling2D((2, 2)))\n",
    "\n",
    "model.add(layers.Conv2D(64, (3, 3), activation='relu'))\n",
    "\n",
    "model.add(layers.Flatten())\n",
    "model.add(layers.Dense(64, activation='relu'))\n",
    "model.add(layers.Dense(10))"
   ]
  },
  {
   "cell_type": "code",
   "execution_count": 28,
   "metadata": {
    "execution": {
     "iopub.execute_input": "2022-02-11T10:54:26.682146Z",
     "iopub.status.busy": "2022-02-11T10:54:26.681913Z",
     "iopub.status.idle": "2022-02-11T10:54:26.690972Z",
     "shell.execute_reply": "2022-02-11T10:54:26.690209Z",
     "shell.execute_reply.started": "2022-02-11T10:54:26.682114Z"
    },
    "id": "7c079fb1-b252-4751-83e8-b13a1b7b5162",
    "outputId": "471cc7c7-ff52-4637-8716-fd380bada9a4"
   },
   "outputs": [],
   "source": [
    "model.summary()"
   ]
  },
  {
   "cell_type": "code",
   "execution_count": 29,
   "metadata": {
    "execution": {
     "iopub.execute_input": "2022-02-11T10:54:26.693327Z",
     "iopub.status.busy": "2022-02-11T10:54:26.692297Z",
     "iopub.status.idle": "2022-02-11T10:55:04.535095Z",
     "shell.execute_reply": "2022-02-11T10:55:04.534363Z",
     "shell.execute_reply.started": "2022-02-11T10:54:26.693290Z"
    },
    "id": "65bac08f-9828-43b4-9d41-6d01afc9b9b1",
    "outputId": "259d1cee-c585-45bf-dab0-53ec003e36e6"
   },
   "outputs": [],
   "source": [
    "model.compile(optimizer='adam',\n",
    "              loss=tf.keras.losses.SparseCategoricalCrossentropy(from_logits=True),\n",
    "              metrics=['accuracy'])\n",
    "\n",
    "history = model.fit(X_train, y_train,\n",
    "                    batch_size=128,\n",
    "                    epochs=20, shuffle=True,\n",
    "                    verbose=1,\n",
    "                    validation_data=(X_test, y_test))"
   ]
  },
  {
   "cell_type": "code",
   "execution_count": 30,
   "metadata": {
    "execution": {
     "iopub.execute_input": "2022-02-11T10:55:04.537197Z",
     "iopub.status.busy": "2022-02-11T10:55:04.536852Z",
     "iopub.status.idle": "2022-02-11T10:55:04.544928Z",
     "shell.execute_reply": "2022-02-11T10:55:04.544134Z",
     "shell.execute_reply.started": "2022-02-11T10:55:04.537158Z"
    },
    "id": "43749a09-fe13-40d1-8cf5-43f545e66692"
   },
   "outputs": [],
   "source": [
    "def plot_accuracy_functions(history):    \n",
    "    plt.plot(history.history['accuracy'], label='accuracy')\n",
    "    plt.plot(history.history['val_accuracy'], label = 'val_accuracy')\n",
    "    plt.xlabel('Epoch')\n",
    "    plt.ylabel('Accuracy')\n",
    "    plt.ylim([0.5, 1])\n",
    "    plt.legend(loc='lower right')\n",
    "    \n",
    "def plot_loss_functions(history):\n",
    "    plt.plot(history.history['loss'])\n",
    "    plt.plot(history.history['val_loss'])\n",
    "    plt.title('model loss')\n",
    "    plt.ylabel('loss')\n",
    "    plt.xlabel('epoch')\n",
    "    plt.legend(['train', 'val'], loc='upper left')\n",
    "    plt.show()"
   ]
  },
  {
   "cell_type": "code",
   "execution_count": 31,
   "metadata": {
    "execution": {
     "iopub.execute_input": "2022-02-11T10:55:04.546646Z",
     "iopub.status.busy": "2022-02-11T10:55:04.546307Z",
     "iopub.status.idle": "2022-02-11T10:55:04.754015Z",
     "shell.execute_reply": "2022-02-11T10:55:04.753392Z",
     "shell.execute_reply.started": "2022-02-11T10:55:04.546610Z"
    },
    "id": "5cb515f0",
    "outputId": "2b4de746-3bff-4fbe-d53a-a412e51e58c6"
   },
   "outputs": [],
   "source": [
    "plot_accuracy_functions(history)"
   ]
  },
  {
   "cell_type": "code",
   "execution_count": 32,
   "metadata": {
    "execution": {
     "iopub.execute_input": "2022-02-11T10:55:04.755482Z",
     "iopub.status.busy": "2022-02-11T10:55:04.755265Z",
     "iopub.status.idle": "2022-02-11T10:55:04.936990Z",
     "shell.execute_reply": "2022-02-11T10:55:04.936354Z",
     "shell.execute_reply.started": "2022-02-11T10:55:04.755453Z"
    },
    "id": "56fe19bb",
    "outputId": "14057e8e-58d7-4d33-9d47-fa061f63db96"
   },
   "outputs": [],
   "source": [
    "plot_loss_functions(history)"
   ]
  },
  {
   "cell_type": "code",
   "execution_count": 33,
   "metadata": {
    "execution": {
     "iopub.execute_input": "2022-02-11T10:55:04.938419Z",
     "iopub.status.busy": "2022-02-11T10:55:04.938184Z",
     "iopub.status.idle": "2022-02-11T10:55:05.465412Z",
     "shell.execute_reply": "2022-02-11T10:55:05.464605Z",
     "shell.execute_reply.started": "2022-02-11T10:55:04.938387Z"
    },
    "id": "2a81b94e-641a-4e7c-bb51-60a0d635db25"
   },
   "outputs": [],
   "source": [
    "test_loss, test_acc = model.evaluate(X_test, y_test, batch_size= 128, verbose=2)"
   ]
  },
  {
   "cell_type": "code",
   "execution_count": null,
   "metadata": {
    "id": "bnXbQANjVhkB"
   },
   "outputs": [],
   "source": []
  }
 ],
 "metadata": {
  "kernelspec": {
   "display_name": "Python 3 (ipykernel)",
   "language": "python",
   "name": "python3"
  },
  "language_info": {
   "codemirror_mode": {
    "name": "ipython",
    "version": 3
   },
   "file_extension": ".py",
   "mimetype": "text/x-python",
   "name": "python",
   "nbconvert_exporter": "python",
   "pygments_lexer": "ipython3",
   "version": "3.8.12"
  }
 },
 "nbformat": 4,
 "nbformat_minor": 4
}
