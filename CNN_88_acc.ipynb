{
 "cells": [
  {
   "cell_type": "code",
   "execution_count": 24,
   "metadata": {
    "_cell_guid": "b1076dfc-b9ad-4769-8c92-a6c4dae69d19",
    "_uuid": "8f2839f25d086af736a60e9eeb907d3b93b6e0e5",
    "execution": {
     "iopub.execute_input": "2022-02-11T21:34:50.461374Z",
     "iopub.status.busy": "2022-02-11T21:34:50.461035Z",
     "iopub.status.idle": "2022-02-11T21:34:50.467756Z",
     "shell.execute_reply": "2022-02-11T21:34:50.466972Z",
     "shell.execute_reply.started": "2022-02-11T21:34:50.461343Z"
    },
    "id": "6yNMWHMyHU-V"
   },
   "outputs": [],
   "source": [
    "import math, re, os\n",
    "import tensorflow as tf\n",
    "import numpy as np\n",
    "from matplotlib import pyplot as plt\n",
    "from tensorflow.keras import datasets"
   ]
  },
  {
   "cell_type": "code",
   "execution_count": 25,
   "metadata": {
    "id": "P2kUTaXtH8ns"
   },
   "outputs": [],
   "source": [
    "#load data\n",
    "(X_train, y_train), (X_test, y_test) = datasets.cifar10.load_data()"
   ]
  },
  {
   "cell_type": "markdown",
   "metadata": {
    "id": "ppMT8PHnHU-Z"
   },
   "source": [
    "# TPU or GPU detection"
   ]
  },
  {
   "cell_type": "code",
   "execution_count": 26,
   "metadata": {
    "_cell_guid": "79c7e3d0-c299-4dcb-8224-4455121ee9b0",
    "_uuid": "d629ff2d2480ee46fbb7e2d37f6b5fab8052498a",
    "colab": {
     "base_uri": "https://localhost:8080/"
    },
    "execution": {
     "iopub.execute_input": "2022-02-11T21:34:54.219659Z",
     "iopub.status.busy": "2022-02-11T21:34:54.219333Z",
     "iopub.status.idle": "2022-02-11T21:34:59.675638Z",
     "shell.execute_reply": "2022-02-11T21:34:59.674815Z",
     "shell.execute_reply.started": "2022-02-11T21:34:54.219597Z"
    },
    "id": "weAQAaaLHU-b",
    "outputId": "195fc583-7288-4cc6-d811-989a7d3bce26"
   },
   "outputs": [
    {
     "name": "stdout",
     "output_type": "stream",
     "text": [
      "INFO:tensorflow:Using MirroredStrategy with devices ('/job:localhost/replica:0/task:0/device:GPU:0',)\n"
     ]
    }
   ],
   "source": [
    "try: # detect TPUs\n",
    "    tpu = tf.distribute.cluster_resolver.TPUClusterResolver() # TPU detection\n",
    "    tf.config.experimental_connect_to_cluster(tpu)\n",
    "    tf.tpu.experimental.initialize_tpu_system(tpu)\n",
    "    strategy = tf.distribute.experimental.TPUStrategy(tpu)\n",
    "except ValueError: # no TPU found, detect GPUs\n",
    "    strategy = tf.distribute.MirroredStrategy() # for GPU or multi-GPU machines"
   ]
  },
  {
   "cell_type": "markdown",
   "metadata": {
    "id": "ct3cIN_IHU-h"
   },
   "source": [
    "# Model"
   ]
  },
  {
   "cell_type": "code",
   "execution_count": 27,
   "metadata": {
    "execution": {
     "iopub.execute_input": "2022-02-11T21:35:57.920553Z",
     "iopub.status.busy": "2022-02-11T21:35:57.920149Z",
     "iopub.status.idle": "2022-02-11T21:35:59.507371Z",
     "shell.execute_reply": "2022-02-11T21:35:59.506064Z",
     "shell.execute_reply.started": "2022-02-11T21:35:57.920517Z"
    },
    "id": "zMt4Xl5SHU-i"
   },
   "outputs": [],
   "source": [
    "from tensorflow.keras.models import Sequential\n",
    "from tensorflow.keras.layers import Conv2D, MaxPooling2D, Dropout, Flatten, Dense, BatchNormalization, ZeroPadding2D\n",
    "from tensorflow.keras.regularizers import l2\n",
    "\n",
    "with strategy.scope():\n",
    "    model = Sequential()\n",
    "    model.add(Conv2D(32, (3, 3), activation='relu', kernel_initializer='he_uniform', padding='same', kernel_regularizer=l2(0.001), \n",
    "                     input_shape=(32, 32, 3)))\n",
    "    model.add(BatchNormalization())\n",
    "    model.add(Conv2D(32, (3, 3), activation='relu', kernel_initializer='he_uniform', padding='same', kernel_regularizer=l2(0.001)))\n",
    "    model.add(BatchNormalization())\n",
    "    model.add(MaxPooling2D((2, 2)))\n",
    "    model.add(Dropout(0.2))\n",
    "    \n",
    "    model.add(Conv2D(64, (3, 3), activation='relu', kernel_initializer='he_uniform', padding='same', kernel_regularizer=l2(0.001)))\n",
    "    model.add(BatchNormalization())\n",
    "    model.add(Conv2D(64, (3, 3), activation='relu', kernel_initializer='he_uniform', padding='same', kernel_regularizer=l2(0.001)))\n",
    "    model.add(BatchNormalization())\n",
    "    model.add(MaxPooling2D((2, 2)))\n",
    "    model.add(Dropout(0.3))\n",
    "    \n",
    "    model.add(Conv2D(128, (3, 3), activation='relu', kernel_initializer='he_uniform', padding='same', kernel_regularizer=l2(0.001)))\n",
    "    model.add(BatchNormalization())\n",
    "    model.add(Conv2D(128, (3, 3), activation='relu', kernel_initializer='he_uniform', padding='same', kernel_regularizer=l2(0.001)))\n",
    "    model.add(BatchNormalization())\n",
    "    model.add(MaxPooling2D((2, 2)))\n",
    "    model.add(Dropout(0.4))\n",
    "    \n",
    "    model.add(Flatten())\n",
    "    model.add(Dense(128, activation='relu', kernel_initializer='he_uniform', kernel_regularizer=l2(0.001)))\n",
    "    model.add(BatchNormalization())\n",
    "    model.add(Dropout(0.5))\n",
    "    model.add(Dense(10, activation='softmax'))\n",
    "\n",
    "#     opt = tf.keras.optimizers.SGD(lr=0.001, momentum=0.9)\n",
    "    model.compile(optimizer='adam', loss='sparse_categorical_crossentropy', metrics=['accuracy'])"
   ]
  },
  {
   "cell_type": "markdown",
   "metadata": {
    "id": "U9qv7Ug4HU-i"
   },
   "source": [
    "# Training"
   ]
  },
  {
   "cell_type": "code",
   "execution_count": 28,
   "metadata": {
    "colab": {
     "base_uri": "https://localhost:8080/"
    },
    "execution": {
     "iopub.execute_input": "2022-02-11T21:36:14.335121Z",
     "iopub.status.busy": "2022-02-11T21:36:14.334788Z",
     "iopub.status.idle": "2022-02-11T21:48:17.507813Z",
     "shell.execute_reply": "2022-02-11T21:48:17.506855Z",
     "shell.execute_reply.started": "2022-02-11T21:36:14.335087Z"
    },
    "id": "HYm4ZZSqHU-j",
    "outputId": "56779b94-fb97-48dc-b841-5d752606b577"
   },
   "outputs": [
    {
     "name": "stdout",
     "output_type": "stream",
     "text": [
      "Epoch 1/100\n",
      "391/391 [==============================] - 23s 46ms/step - loss: 2.9405 - accuracy: 0.3938 - val_loss: 2.3985 - val_accuracy: 0.5126 - lr: 0.0010\n",
      "Epoch 2/100\n",
      "391/391 [==============================] - 16s 41ms/step - loss: 2.1415 - accuracy: 0.5722 - val_loss: 1.8267 - val_accuracy: 0.6456 - lr: 0.0010\n",
      "Epoch 3/100\n",
      "391/391 [==============================] - 16s 41ms/step - loss: 1.7204 - accuracy: 0.6555 - val_loss: 1.5620 - val_accuracy: 0.6758 - lr: 0.0010\n",
      "Epoch 4/100\n",
      "391/391 [==============================] - 16s 41ms/step - loss: 1.4498 - accuracy: 0.7006 - val_loss: 1.3180 - val_accuracy: 0.7231 - lr: 0.0010\n",
      "Epoch 5/100\n",
      "391/391 [==============================] - 16s 41ms/step - loss: 1.2794 - accuracy: 0.7314 - val_loss: 1.2102 - val_accuracy: 0.7417 - lr: 0.0010\n",
      "Epoch 6/100\n",
      "391/391 [==============================] - 16s 41ms/step - loss: 1.1754 - accuracy: 0.7513 - val_loss: 1.1297 - val_accuracy: 0.7656 - lr: 0.0010\n",
      "Epoch 7/100\n",
      "391/391 [==============================] - 16s 41ms/step - loss: 1.1140 - accuracy: 0.7674 - val_loss: 1.0661 - val_accuracy: 0.7795 - lr: 0.0010\n",
      "Epoch 8/100\n",
      "391/391 [==============================] - 16s 41ms/step - loss: 1.0604 - accuracy: 0.7813 - val_loss: 1.1058 - val_accuracy: 0.7612 - lr: 0.0010\n",
      "Epoch 9/100\n",
      "391/391 [==============================] - 16s 41ms/step - loss: 1.0280 - accuracy: 0.7904 - val_loss: 1.0223 - val_accuracy: 0.7906 - lr: 0.0010\n",
      "Epoch 10/100\n",
      "391/391 [==============================] - 16s 41ms/step - loss: 1.0070 - accuracy: 0.8004 - val_loss: 0.9832 - val_accuracy: 0.8052 - lr: 0.0010\n",
      "Epoch 11/100\n",
      "391/391 [==============================] - 16s 41ms/step - loss: 0.9929 - accuracy: 0.8047 - val_loss: 0.9781 - val_accuracy: 0.8098 - lr: 0.0010\n",
      "Epoch 12/100\n",
      "391/391 [==============================] - 16s 41ms/step - loss: 0.9710 - accuracy: 0.8104 - val_loss: 0.9596 - val_accuracy: 0.8161 - lr: 0.0010\n",
      "Epoch 13/100\n",
      "391/391 [==============================] - 16s 41ms/step - loss: 0.9630 - accuracy: 0.8148 - val_loss: 0.9768 - val_accuracy: 0.8164 - lr: 0.0010\n",
      "Epoch 14/100\n",
      "391/391 [==============================] - 16s 41ms/step - loss: 0.9460 - accuracy: 0.8211 - val_loss: 0.9635 - val_accuracy: 0.8129 - lr: 0.0010\n",
      "Epoch 15/100\n",
      "390/391 [============================>.] - ETA: 0s - loss: 0.9343 - accuracy: 0.8255\n",
      "Epoch 00015: ReduceLROnPlateau reducing learning rate to 0.00020000000949949026.\n",
      "391/391 [==============================] - 16s 41ms/step - loss: 0.9346 - accuracy: 0.8254 - val_loss: 0.9967 - val_accuracy: 0.8030 - lr: 0.0010\n",
      "Epoch 16/100\n",
      "391/391 [==============================] - 16s 41ms/step - loss: 0.8023 - accuracy: 0.8641 - val_loss: 0.7899 - val_accuracy: 0.8633 - lr: 2.0000e-04\n",
      "Epoch 17/100\n",
      "391/391 [==============================] - 16s 41ms/step - loss: 0.7192 - accuracy: 0.8819 - val_loss: 0.7569 - val_accuracy: 0.8647 - lr: 2.0000e-04\n",
      "Epoch 18/100\n",
      "391/391 [==============================] - 16s 41ms/step - loss: 0.6659 - accuracy: 0.8919 - val_loss: 0.7400 - val_accuracy: 0.8639 - lr: 2.0000e-04\n",
      "Epoch 19/100\n",
      "391/391 [==============================] - 16s 41ms/step - loss: 0.6305 - accuracy: 0.8960 - val_loss: 0.7167 - val_accuracy: 0.8664 - lr: 2.0000e-04\n",
      "Epoch 20/100\n",
      "391/391 [==============================] - 16s 41ms/step - loss: 0.6021 - accuracy: 0.8986 - val_loss: 0.6901 - val_accuracy: 0.8710 - lr: 2.0000e-04\n",
      "Epoch 21/100\n",
      "391/391 [==============================] - 16s 41ms/step - loss: 0.5786 - accuracy: 0.9027 - val_loss: 0.7001 - val_accuracy: 0.8690 - lr: 2.0000e-04\n",
      "Epoch 22/100\n",
      "391/391 [==============================] - 16s 41ms/step - loss: 0.5555 - accuracy: 0.9063 - val_loss: 0.6968 - val_accuracy: 0.8661 - lr: 2.0000e-04\n",
      "Epoch 23/100\n",
      "391/391 [==============================] - 16s 41ms/step - loss: 0.5364 - accuracy: 0.9122 - val_loss: 0.6849 - val_accuracy: 0.8686 - lr: 2.0000e-04\n",
      "Epoch 24/100\n",
      "391/391 [==============================] - 16s 41ms/step - loss: 0.5284 - accuracy: 0.9108 - val_loss: 0.6945 - val_accuracy: 0.8673 - lr: 2.0000e-04\n",
      "Epoch 25/100\n",
      "391/391 [==============================] - 16s 41ms/step - loss: 0.5139 - accuracy: 0.9138 - val_loss: 0.6851 - val_accuracy: 0.8697 - lr: 2.0000e-04\n",
      "Epoch 26/100\n",
      "391/391 [==============================] - 16s 41ms/step - loss: 0.4972 - accuracy: 0.9169 - val_loss: 0.6595 - val_accuracy: 0.8761 - lr: 2.0000e-04\n",
      "Epoch 27/100\n",
      "391/391 [==============================] - 16s 41ms/step - loss: 0.4930 - accuracy: 0.9170 - val_loss: 0.6719 - val_accuracy: 0.8690 - lr: 2.0000e-04\n",
      "Epoch 28/100\n",
      "391/391 [==============================] - 16s 41ms/step - loss: 0.4813 - accuracy: 0.9199 - val_loss: 0.6692 - val_accuracy: 0.8728 - lr: 2.0000e-04\n",
      "Epoch 29/100\n",
      "391/391 [==============================] - ETA: 0s - loss: 0.4733 - accuracy: 0.9216\n",
      "Epoch 00029: ReduceLROnPlateau reducing learning rate to 4.0000001899898055e-05.\n",
      "391/391 [==============================] - 16s 41ms/step - loss: 0.4733 - accuracy: 0.9216 - val_loss: 0.6655 - val_accuracy: 0.8707 - lr: 2.0000e-04\n",
      "Epoch 30/100\n",
      "391/391 [==============================] - 16s 41ms/step - loss: 0.4359 - accuracy: 0.9337 - val_loss: 0.6440 - val_accuracy: 0.8747 - lr: 4.0000e-05\n",
      "Epoch 31/100\n",
      "391/391 [==============================] - 16s 41ms/step - loss: 0.4188 - accuracy: 0.9386 - val_loss: 0.6423 - val_accuracy: 0.8768 - lr: 4.0000e-05\n",
      "Epoch 32/100\n",
      "391/391 [==============================] - 16s 41ms/step - loss: 0.4139 - accuracy: 0.9391 - val_loss: 0.6418 - val_accuracy: 0.8781 - lr: 4.0000e-05\n",
      "Epoch 33/100\n",
      "391/391 [==============================] - 16s 41ms/step - loss: 0.4042 - accuracy: 0.9429 - val_loss: 0.6357 - val_accuracy: 0.8773 - lr: 4.0000e-05\n",
      "Epoch 34/100\n",
      "391/391 [==============================] - 16s 41ms/step - loss: 0.4011 - accuracy: 0.9428 - val_loss: 0.6370 - val_accuracy: 0.8798 - lr: 4.0000e-05\n",
      "Epoch 35/100\n",
      "391/391 [==============================] - 16s 41ms/step - loss: 0.3893 - accuracy: 0.9468 - val_loss: 0.6347 - val_accuracy: 0.8812 - lr: 4.0000e-05\n",
      "Epoch 36/100\n",
      "391/391 [==============================] - 16s 41ms/step - loss: 0.3864 - accuracy: 0.9470 - val_loss: 0.6330 - val_accuracy: 0.8797 - lr: 4.0000e-05\n",
      "Epoch 37/100\n",
      "391/391 [==============================] - 16s 41ms/step - loss: 0.3788 - accuracy: 0.9492 - val_loss: 0.6313 - val_accuracy: 0.8820 - lr: 4.0000e-05\n",
      "Epoch 38/100\n",
      "391/391 [==============================] - 16s 41ms/step - loss: 0.3782 - accuracy: 0.9484 - val_loss: 0.6313 - val_accuracy: 0.8804 - lr: 4.0000e-05\n",
      "Epoch 39/100\n",
      "391/391 [==============================] - 16s 41ms/step - loss: 0.3724 - accuracy: 0.9488 - val_loss: 0.6328 - val_accuracy: 0.8821 - lr: 4.0000e-05\n",
      "Epoch 40/100\n",
      "390/391 [============================>.] - ETA: 0s - loss: 0.3663 - accuracy: 0.9511\n",
      "Epoch 00040: ReduceLROnPlateau reducing learning rate to 8.000000525498762e-06.\n",
      "391/391 [==============================] - 16s 41ms/step - loss: 0.3661 - accuracy: 0.9511 - val_loss: 0.6324 - val_accuracy: 0.8820 - lr: 4.0000e-05\n",
      "Epoch 41/100\n",
      "391/391 [==============================] - 16s 41ms/step - loss: 0.3578 - accuracy: 0.9533 - val_loss: 0.6343 - val_accuracy: 0.8807 - lr: 8.0000e-06\n",
      "Epoch 42/100\n",
      "391/391 [==============================] - 16s 41ms/step - loss: 0.3585 - accuracy: 0.9539 - val_loss: 0.6318 - val_accuracy: 0.8815 - lr: 8.0000e-06\n",
      "Epoch 43/100\n",
      "391/391 [==============================] - 16s 41ms/step - loss: 0.3578 - accuracy: 0.9530 - val_loss: 0.6290 - val_accuracy: 0.8818 - lr: 8.0000e-06\n",
      "Epoch 44/100\n",
      "391/391 [==============================] - 16s 41ms/step - loss: 0.3547 - accuracy: 0.9548 - val_loss: 0.6289 - val_accuracy: 0.8801 - lr: 8.0000e-06\n",
      "Epoch 45/100\n",
      "391/391 [==============================] - 16s 41ms/step - loss: 0.3547 - accuracy: 0.9534 - val_loss: 0.6305 - val_accuracy: 0.8815 - lr: 8.0000e-06\n",
      "Epoch 46/100\n",
      "390/391 [============================>.] - ETA: 0s - loss: 0.3537 - accuracy: 0.9541\n",
      "Epoch 00046: ReduceLROnPlateau reducing learning rate to 1.6000001778593287e-06.\n",
      "391/391 [==============================] - 16s 41ms/step - loss: 0.3537 - accuracy: 0.9541 - val_loss: 0.6300 - val_accuracy: 0.8815 - lr: 8.0000e-06\n",
      "Epoch 47/100\n",
      "391/391 [==============================] - 16s 41ms/step - loss: 0.3474 - accuracy: 0.9565 - val_loss: 0.6295 - val_accuracy: 0.8812 - lr: 1.6000e-06\n",
      "Epoch 48/100\n",
      "391/391 [==============================] - 16s 41ms/step - loss: 0.3484 - accuracy: 0.9558 - val_loss: 0.6298 - val_accuracy: 0.8809 - lr: 1.6000e-06\n",
      "Epoch 49/100\n",
      "391/391 [==============================] - ETA: 0s - loss: 0.3474 - accuracy: 0.9562\n",
      "Epoch 00049: ReduceLROnPlateau reducing learning rate to 3.200000264769187e-07.\n",
      "391/391 [==============================] - 16s 41ms/step - loss: 0.3474 - accuracy: 0.9562 - val_loss: 0.6296 - val_accuracy: 0.8817 - lr: 1.6000e-06\n",
      "Epoch 50/100\n",
      "391/391 [==============================] - 16s 41ms/step - loss: 0.3495 - accuracy: 0.9555 - val_loss: 0.6290 - val_accuracy: 0.8811 - lr: 3.2000e-07\n",
      "Epoch 51/100\n",
      "391/391 [==============================] - 16s 41ms/step - loss: 0.3497 - accuracy: 0.9552 - val_loss: 0.6302 - val_accuracy: 0.8810 - lr: 3.2000e-07\n",
      "Epoch 52/100\n",
      "391/391 [==============================] - ETA: 0s - loss: 0.3489 - accuracy: 0.9554\n",
      "Epoch 00052: ReduceLROnPlateau reducing learning rate to 6.400000529538374e-08.\n",
      "391/391 [==============================] - 16s 41ms/step - loss: 0.3489 - accuracy: 0.9554 - val_loss: 0.6300 - val_accuracy: 0.8811 - lr: 3.2000e-07\n",
      "Epoch 53/100\n",
      "391/391 [==============================] - 16s 41ms/step - loss: 0.3503 - accuracy: 0.9555 - val_loss: 0.6299 - val_accuracy: 0.8813 - lr: 6.4000e-08\n",
      "Epoch 54/100\n",
      "391/391 [==============================] - ETA: 0s - loss: 0.3462 - accuracy: 0.9572Restoring model weights from the end of the best epoch: 44.\n",
      "391/391 [==============================] - 16s 41ms/step - loss: 0.3462 - accuracy: 0.9572 - val_loss: 0.6301 - val_accuracy: 0.8813 - lr: 6.4000e-08\n",
      "Epoch 00054: early stopping\n"
     ]
    }
   ],
   "source": [
    "from tensorflow.keras.callbacks import ModelCheckpoint, EarlyStopping, ReduceLROnPlateau\n",
    "\n",
    "\n",
    "checkpoint = ModelCheckpoint(\"model_checkpoint.h5\", \n",
    "                             monitor='val_loss', mode='min', \n",
    "                             save_best_only=True, verbose=1)\n",
    "\n",
    "early_stopping = EarlyStopping(monitor='val_loss', \n",
    "                               min_delta=0, patience=10, \n",
    "                               verbose=1, restore_best_weights=True)\n",
    "\n",
    "reduce_lr = ReduceLROnPlateau(monitor='val_loss', factor=0.2, patience=3, verbose=1, min_delta=0.0001)\n",
    "\n",
    "\n",
    "history = model.fit(X_train, y_train, epochs=100, \n",
    "                    batch_size= 128,\n",
    "                    validation_data=(X_test, y_test), \n",
    "                    callbacks=[early_stopping, reduce_lr])"
   ]
  },
  {
   "cell_type": "code",
   "execution_count": 35,
   "metadata": {
    "colab": {
     "base_uri": "https://localhost:8080/"
    },
    "id": "eyYGRofF_KsQ",
    "outputId": "2d874482-b181-45ed-912f-835d6c27b6c0"
   },
   "outputs": [
    {
     "name": "stdout",
     "output_type": "stream",
     "text": [
      "313/313 [==============================] - 4s 13ms/step - loss: 0.6289 - accuracy: 0.8801\n"
     ]
    }
   ],
   "source": [
    "test_loss, test_acc = model.evaluate(X_test, y_test, verbose=1)"
   ]
  },
  {
   "cell_type": "code",
   "execution_count": 30,
   "metadata": {
    "colab": {
     "base_uri": "https://localhost:8080/",
     "height": 339
    },
    "id": "vjldGBTH15Fz",
    "outputId": "4cdd2d87-2452-47a3-8478-088d20d0981c"
   },
   "outputs": [
    {
     "data": {
      "image/png": "[encoded data removed]",
      "text/plain": [
       "<Figure size 1080x360 with 2 Axes>"
      ]
     },
     "metadata": {
      "needs_background": "light"
     },
     "output_type": "display_data"
    }
   ],
   "source": [
    "import matplotlib.pyplot as plt\n",
    "def plotmodelhistory(history): \n",
    "    fig, axs = plt.subplots(1,2,figsize=(15,5)) \n",
    "    # summarize history for accuracy\n",
    "    axs[0].plot(history.history['accuracy']) \n",
    "    axs[0].plot(history.history['val_accuracy']) \n",
    "    axs[0].set_title('Model Accuracy')\n",
    "    axs[0].set_ylabel('Accuracy') \n",
    "    axs[0].set_xlabel('Epoch')\n",
    "    axs[0].legend(['train', 'validate'], loc='upper left')\n",
    "    \n",
    "    # summarize history for loss\n",
    "    axs[1].plot(history.history['loss']) \n",
    "    axs[1].plot(history.history['val_loss']) \n",
    "    axs[1].set_title('Model Loss')\n",
    "    axs[1].set_ylabel('Loss') \n",
    "    axs[1].set_xlabel('Epoch')\n",
    "    axs[1].legend(['train', 'validate'], loc='upper left')\n",
    "    plt.show()\n",
    "\n",
    "plotmodelhistory(history)"
   ]
  },
  {
   "cell_type": "code",
   "execution_count": 31,
   "metadata": {
    "colab": {
     "base_uri": "https://localhost:8080/"
    },
    "id": "sP3wVsCn2uH3",
    "outputId": "11a671a5-c899-47fc-9c52-8ea454fc94d5"
   },
   "outputs": [
    {
     "name": "stdout",
     "output_type": "stream",
     "text": [
      "79/79 - 1s - loss: 0.6289 - accuracy: 0.8801 - 1s/epoch - 15ms/step\n",
      "test_loss =  0.628913402557373\n",
      "test_acc =  0.8801000118255615\n"
     ]
    }
   ],
   "source": [
    "from tensorflow.keras import models\n",
    "models.save_model(model,'CNN_model.hdf5')\n",
    "\n",
    "CNN_model = models.load_model('./CNN_model.hdf5')\n",
    "\n",
    "test_loss, test_acc = CNN_model.evaluate(X_test , y_test, batch_size= 128, verbose=2)\n",
    "print(\"test_loss = \", test_loss)\n",
    "print(\"test_acc = \", test_acc)"
   ]
  }
 ],
 "metadata": {
  "accelerator": "GPU",
  "colab": {
   "collapsed_sections": [
    "ppMT8PHnHU-Z"
   ],
   "name": "CNN_88.ipynb",
   "provenance": []
  },
  "kernelspec": {
   "display_name": "Python 3 (ipykernel)",
   "language": "python",
   "name": "python3"
  },
  "language_info": {
   "codemirror_mode": {
    "name": "ipython",
    "version": 3
   },
   "file_extension": ".py",
   "mimetype": "text/x-python",
   "name": "python",
   "nbconvert_exporter": "python",
   "pygments_lexer": "ipython3",
   "version": "3.9.6"
  }
 },
 "nbformat": 4,
 "nbformat_minor": 1
}
