{
 "cells": [
  {
   "cell_type": "code",
   "execution_count": 1,
   "id": "553ff330",
   "metadata": {
    "id": "553ff330"
   },
   "outputs": [],
   "source": [
    "from tensorflow.keras import datasets\n",
    "import cv2\n",
    "import numpy as np\n",
    "import tensorflow as tf\n",
    "from tensorflow.keras.utils import to_categorical"
   ]
  },
  {
   "cell_type": "code",
   "execution_count": 2,
   "id": "bd083a65-cdfc-46e8-b404-10573a2ded9a",
   "metadata": {
    "colab": {
     "base_uri": "https://localhost:8080/"
    },
    "id": "bd083a65-cdfc-46e8-b404-10573a2ded9a",
    "outputId": "dbfa08d4-a3da-43af-f7a2-ab605bd8f9b3"
   },
   "outputs": [
    {
     "data": {
      "text/plain": [
       "(50000, 32, 32, 3)"
      ]
     },
     "execution_count": 2,
     "metadata": {},
     "output_type": "execute_result"
    }
   ],
   "source": [
    "#load data\n",
    "(X_train, y_train), (X_test, y_test)=datasets.cifar10.load_data()\n",
    "\n",
    "X_train.shape"
   ]
  },
  {
   "cell_type": "code",
   "execution_count": 3,
   "id": "1f31a788",
   "metadata": {
    "colab": {
     "base_uri": "https://localhost:8080/"
    },
    "id": "1f31a788",
    "outputId": "e02973de-72c2-476e-df4e-956d5ad335ef"
   },
   "outputs": [
    {
     "name": "stdout",
     "output_type": "stream",
     "text": [
      "X_train224 :  (1000, 224, 224, 3)\n",
      "X_train224 :  (1000, 224, 224, 3)\n"
     ]
    }
   ],
   "source": [
    "# resize the images into (224, 224) pixels\n",
    "X_train = tf.image.resize(X_train[:1000], (224, 224))\n",
    "\n",
    "X_test = tf.image.resize(X_test[:1000], (224, 224))\n",
    "\n",
    "print(\"X_train224 : \", X_train.shape)\n",
    "print(\"X_train224 : \", X_test.shape)"
   ]
  },
  {
   "cell_type": "code",
   "execution_count": 4,
   "id": "8211b29b",
   "metadata": {
    "colab": {
     "base_uri": "https://localhost:8080/"
    },
    "id": "8211b29b",
    "outputId": "714a6553-6b0a-49de-8d4a-39a4e706f380"
   },
   "outputs": [
    {
     "name": "stdout",
     "output_type": "stream",
     "text": [
      "y_train :  (1000, 10)\n",
      "y_test :  (1000, 10)\n"
     ]
    }
   ],
   "source": [
    "## Transforming labels to correct format\n",
    "y_train = to_categorical(y_train[:1000], num_classes=10)\n",
    "y_test = to_categorical(y_test[:1000], num_classes=10)\n",
    "\n",
    "print(\"y_train : \", y_train.shape)\n",
    "print(\"y_test : \", y_test.shape)"
   ]
  },
  {
   "cell_type": "code",
   "execution_count": null,
   "id": "Zk3E802-EfHL",
   "metadata": {
    "id": "Zk3E802-EfHL"
   },
   "outputs": [],
   "source": []
  },
  {
   "cell_type": "markdown",
   "id": "b-_Bb7JsEhCj",
   "metadata": {
    "id": "b-_Bb7JsEhCj"
   },
   "source": [
    "# VGG 16"
   ]
  },
  {
   "cell_type": "code",
   "execution_count": 5,
   "id": "fb960e86",
   "metadata": {
    "colab": {
     "base_uri": "https://localhost:8080/"
    },
    "id": "fb960e86",
    "outputId": "91c46b8b-ea29-456b-e417-70f169059e12"
   },
   "outputs": [],
   "source": [
    "from tensorflow.keras.applications.vgg16 import VGG16\n",
    "from tensorflow.keras.applications.vgg16 import preprocess_input\n",
    "\n",
    "## Loading VGG16 model\n",
    "# We use Include_top=False to remove the classification layer that was trained on the ImageNet dataset \n",
    "# and set the model as not trainable.\n",
    "base_model = VGG16(weights=\"imagenet\", include_top=False, input_shape=X_train[0].shape)\n",
    "base_model.trainable = False ## Not trainable weights"
   ]
  },
  {
   "cell_type": "code",
   "execution_count": 6,
   "id": "7f4d7374",
   "metadata": {
    "id": "7f4d7374"
   },
   "outputs": [],
   "source": [
    "## here i used the preprocess_input function from VGG16 to normalize the input data.\n",
    "X_train = preprocess_input(X_train)\n",
    "X_test = preprocess_input(X_test)"
   ]
  },
  {
   "cell_type": "code",
   "execution_count": 7,
   "id": "1dc495bb",
   "metadata": {
    "id": "1dc495bb"
   },
   "outputs": [],
   "source": [
    "from tensorflow.keras import layers, models\n",
    "\n",
    "flatten_layer = layers.Flatten()\n",
    "dense_layer_1 = layers.Dense(50, activation='relu')\n",
    "dense_layer_2 = layers.Dense(20, activation='relu')\n",
    "prediction_layer = layers.Dense(10, activation='softmax')\n",
    "\n",
    "\n",
    "model = models.Sequential([\n",
    "    base_model,\n",
    "    flatten_layer,\n",
    "    dense_layer_1,\n",
    "    dense_layer_2,\n",
    "    prediction_layer\n",
    "])"
   ]
  },
  {
   "cell_type": "code",
   "execution_count": null,
   "id": "6f2e32f9",
   "metadata": {
    "colab": {
     "base_uri": "https://localhost:8080/"
    },
    "id": "6f2e32f9",
    "outputId": "1f2d68c3-cab2-4289-f16a-96059dc07fd9"
   },
   "outputs": [
    {
     "name": "stdout",
     "output_type": "stream",
     "text": [
      "Epoch 1/50\n",
      "25/25 [==============================] - 148s 6s/step - loss: 4.0121 - accuracy: 0.1800 - val_loss: 2.4477 - val_accuracy: 0.3150\n",
      "Epoch 2/50\n",
      "25/25 [==============================] - 165s 7s/step - loss: 2.0941 - accuracy: 0.4000 - val_loss: 1.9036 - val_accuracy: 0.3150\n",
      "Epoch 3/50\n",
      "25/25 [==============================] - 171s 7s/step - loss: 1.1800 - accuracy: 0.5487 - val_loss: 1.5692 - val_accuracy: 0.5150\n",
      "Epoch 4/50\n",
      "25/25 [==============================] - 173s 7s/step - loss: 0.7757 - accuracy: 0.6925 - val_loss: 1.6454 - val_accuracy: 0.5300\n",
      "Epoch 5/50\n",
      "25/25 [==============================] - 174s 7s/step - loss: 0.5179 - accuracy: 0.8125 - val_loss: 1.5967 - val_accuracy: 0.5350\n",
      "Epoch 6/50\n",
      "25/25 [==============================] - 182s 7s/step - loss: 0.3777 - accuracy: 0.8975 - val_loss: 1.8204 - val_accuracy: 0.5850\n",
      "Epoch 7/50\n",
      "25/25 [==============================] - 309s 13s/step - loss: 0.2559 - accuracy: 0.9312 - val_loss: 2.0150 - val_accuracy: 0.5750\n",
      "Epoch 8/50\n",
      "25/25 [==============================] - 315s 13s/step - loss: 0.1555 - accuracy: 0.9625 - val_loss: 1.8044 - val_accuracy: 0.6150\n",
      "Epoch 9/50\n",
      "25/25 [==============================] - 317s 13s/step - loss: 0.1197 - accuracy: 0.9712 - val_loss: 1.9276 - val_accuracy: 0.6300\n",
      "Epoch 10/50\n",
      "25/25 [==============================] - 295s 12s/step - loss: 0.1020 - accuracy: 0.9812 - val_loss: 2.3277 - val_accuracy: 0.6150\n",
      "Epoch 11/50\n",
      "25/25 [==============================] - 269s 11s/step - loss: 0.0875 - accuracy: 0.9837 - val_loss: 1.8203 - val_accuracy: 0.6450\n",
      "Epoch 12/50\n",
      "25/25 [==============================] - 243s 10s/step - loss: 0.0666 - accuracy: 0.9862 - val_loss: 2.1643 - val_accuracy: 0.6350\n",
      "Epoch 13/50\n",
      "25/25 [==============================] - 169s 7s/step - loss: 0.0426 - accuracy: 0.9912 - val_loss: 2.1799 - val_accuracy: 0.6250\n",
      "Epoch 14/50\n",
      "25/25 [==============================] - 171s 7s/step - loss: 0.0399 - accuracy: 0.9937 - val_loss: 2.1127 - val_accuracy: 0.6500\n",
      "Epoch 15/50\n",
      "25/25 [==============================] - 174s 7s/step - loss: 0.0392 - accuracy: 0.9937 - val_loss: 2.4144 - val_accuracy: 0.6000\n",
      "Epoch 16/50\n",
      "10/25 [===========>..................] - ETA: 1:02:01 - loss: 0.0140 - accuracy: 1.0000"
     ]
    }
   ],
   "source": [
    "model.compile(\n",
    "    optimizer='adam',\n",
    "    loss='categorical_crossentropy',\n",
    "    metrics=['accuracy'],\n",
    ")\n",
    "\n",
    "history = model.fit(X_train, y_train, epochs=50, validation_split=0.2, batch_size=32)\n"
   ]
  },
  {
   "cell_type": "code",
   "execution_count": null,
   "id": "mgJ2d9uO-4pG",
   "metadata": {
    "id": "mgJ2d9uO-4pG"
   },
   "outputs": [],
   "source": []
  }
 ],
 "metadata": {
  "accelerator": "GPU",
  "colab": {
   "collapsed_sections": [],
   "name": "VGG16.ipynb",
   "provenance": []
  },
  "kernelspec": {
   "display_name": "Python 3 (ipykernel)",
   "language": "python",
   "name": "python3"
  },
  "language_info": {
   "codemirror_mode": {
    "name": "ipython",
    "version": 3
   },
   "file_extension": ".py",
   "mimetype": "text/x-python",
   "name": "python",
   "nbconvert_exporter": "python",
   "pygments_lexer": "ipython3",
   "version": "3.8.12"
  }
 },
 "nbformat": 4,
 "nbformat_minor": 5
}
