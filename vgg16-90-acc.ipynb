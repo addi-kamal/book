{
 "cells": [
  {
   "cell_type": "code",
   "execution_count": 1,
   "metadata": {
    "execution": {
     "iopub.execute_input": "2022-02-11T13:04:04.553543Z",
     "iopub.status.busy": "2022-02-11T13:04:04.552829Z",
     "iopub.status.idle": "2022-02-11T13:14:49.083207Z",
     "shell.execute_reply": "2022-02-11T13:14:49.082480Z",
     "shell.execute_reply.started": "2022-02-11T13:04:04.553432Z"
    }
   },
   "outputs": [],
   "source": [
    "from tensorflow.keras.utils import to_categorical\n",
    "from tensorflow.keras.applications.vgg16 import preprocess_input, VGG16\n",
    "from tensorflow.keras import datasets\n",
    "import tensorflow.keras as K\n",
    "\n",
    "def preprocess_data(X, y):\n",
    "        X = X.astype('float32')\n",
    "        # here i used the preprocess_input function from VGG16 to normalize the input data\n",
    "        preprocessed_X = preprocess_input(X)\n",
    "        # Transforming labels to correct format\n",
    "        preprocessed_y = to_categorical(y, 10)\n",
    "        return (preprocessed_X, preprocessed_y)\n",
    "\n",
    "if __name__ == \"__main__\":\n",
    "    #load data\n",
    "    (X_train, y_train), (X_test, y_test) = datasets.cifar10.load_data()\n",
    "\n",
    "    # preprocessing the data (train & test data)\n",
    "    (X_train_p , y_train_p) = preprocess_data(X_train, y_train)\n",
    "    (X_test_p , y_test_p) = preprocess_data(X_test, y_test)\n",
    "\n",
    "    # Loading VGG16 model\n",
    "    vgg16_model = VGG16(include_top=False,\n",
    "                       weights='imagenet',\n",
    "                       pooling='avg')\n",
    "    \n",
    "    model= K.Sequential()\n",
    "    model.add(K.layers.UpSampling2D())\n",
    "    model.add(vgg16_model)\n",
    "    model.add(K.layers.Flatten())\n",
    "    model.add(K.layers.Dense(512, activation=('relu'))) \n",
    "    model.add(K.layers.Dropout(0.2))\n",
    "    model.add(K.layers.Dense(256, activation=('relu')))\n",
    "    model.add(K.layers.Dropout(0.2))\n",
    "    model.add(K.layers.Dense(10, activation=('softmax')))\n",
    "    callback = []\n",
    "    def decay(epoch):\n",
    "        \"\"\" This method create the alpha\"\"\"\n",
    "        return 0.001 / (1 + 1 * 30)\n",
    "    callback += [K.callbacks.LearningRateScheduler(decay, verbose=1)]\n",
    "    callback += [K.callbacks.ModelCheckpoint('cifar10.h5',\n",
    "                                             save_best_only=True,\n",
    "                                             mode='min'\n",
    "                                             )]\n",
    "    model.compile(optimizer='adam', loss='categorical_crossentropy',\n",
    "                  metrics=['accuracy'])\n",
    "\n",
    "    history = model.fit(X_train_p , y_train_p,\n",
    "              batch_size=128,\n",
    "              validation_data=(X_test_p , y_test_p),\n",
    "              epochs=20, shuffle=True,\n",
    "              callbacks=callback,\n",
    "              verbose=1)"
   ]
  },
  {
   "cell_type": "code",
   "execution_count": 2,
   "metadata": {
    "execution": {
     "iopub.execute_input": "2022-02-11T13:14:49.086406Z",
     "iopub.status.busy": "2022-02-11T13:14:49.085635Z",
     "iopub.status.idle": "2022-02-11T13:14:54.518906Z",
     "shell.execute_reply": "2022-02-11T13:14:54.518181Z",
     "shell.execute_reply.started": "2022-02-11T13:14:49.086366Z"
    }
   },
   "outputs": [],
   "source": [
    "test_loss, test_acc = model.evaluate(X_test_p , y_test_p, batch_size= 32, verbose=2)\n",
    "print(\"test_loss = \", test_loss)\n",
    "print(\"test_acc = \", test_acc)"
   ]
  },
  {
   "cell_type": "code",
   "execution_count": 5,
   "metadata": {
    "execution": {
     "iopub.execute_input": "2022-02-11T13:19:09.379059Z",
     "iopub.status.busy": "2022-02-11T13:19:09.378801Z",
     "iopub.status.idle": "2022-02-11T13:19:09.386519Z",
     "shell.execute_reply": "2022-02-11T13:19:09.385536Z",
     "shell.execute_reply.started": "2022-02-11T13:19:09.379032Z"
    }
   },
   "outputs": [],
   "source": [
    "import matplotlib.pyplot as plt\n",
    "def plot_accuracy_functions(history):    \n",
    "    plt.plot(history.history['accuracy'], label='accuracy')\n",
    "    plt.plot(history.history['val_accuracy'], label = 'val_accuracy')\n",
    "    plt.xlabel('Epoch')\n",
    "    plt.ylabel('Accuracy')\n",
    "    plt.ylim([0.5, 1])\n",
    "    plt.legend(loc='lower right')\n",
    "    \n",
    "def plot_loss_functions(history):\n",
    "    plt.plot(history.history['loss'])\n",
    "    plt.plot(history.history['val_loss'])\n",
    "    plt.title('model loss')\n",
    "    plt.ylabel('loss')\n",
    "    plt.xlabel('epoch')\n",
    "    plt.legend(['train', 'val'], loc='upper left')\n",
    "    plt.show()"
   ]
  },
  {
   "cell_type": "code",
   "execution_count": 6,
   "metadata": {
    "execution": {
     "iopub.execute_input": "2022-02-11T13:19:15.651454Z",
     "iopub.status.busy": "2022-02-11T13:19:15.651208Z",
     "iopub.status.idle": "2022-02-11T13:19:15.896989Z",
     "shell.execute_reply": "2022-02-11T13:19:15.896329Z",
     "shell.execute_reply.started": "2022-02-11T13:19:15.651427Z"
    }
   },
   "outputs": [],
   "source": [
    "plot_accuracy_functions(history)"
   ]
  },
  {
   "cell_type": "code",
   "execution_count": 8,
   "metadata": {
    "execution": {
     "iopub.execute_input": "2022-02-11T13:19:23.724184Z",
     "iopub.status.busy": "2022-02-11T13:19:23.723897Z",
     "iopub.status.idle": "2022-02-11T13:19:23.919082Z",
     "shell.execute_reply": "2022-02-11T13:19:23.918347Z",
     "shell.execute_reply.started": "2022-02-11T13:19:23.724155Z"
    }
   },
   "outputs": [],
   "source": [
    "plot_loss_functions(history)"
   ]
  },
  {
   "cell_type": "code",
   "execution_count": 9,
   "metadata": {
    "execution": {
     "iopub.execute_input": "2022-02-11T13:19:28.675216Z",
     "iopub.status.busy": "2022-02-11T13:19:28.674579Z",
     "iopub.status.idle": "2022-02-11T13:19:28.964687Z",
     "shell.execute_reply": "2022-02-11T13:19:28.963943Z",
     "shell.execute_reply.started": "2022-02-11T13:19:28.675179Z"
    }
   },
   "outputs": [],
   "source": [
    "from tensorflow.keras import models\n",
    "models.save_model(model,'VGG16_model.hdf5')"
   ]
  },
  {
   "cell_type": "code",
   "execution_count": 10,
   "metadata": {
    "execution": {
     "iopub.execute_input": "2022-02-11T13:19:32.136388Z",
     "iopub.status.busy": "2022-02-11T13:19:32.136137Z",
     "iopub.status.idle": "2022-02-11T13:19:32.563403Z",
     "shell.execute_reply": "2022-02-11T13:19:32.562687Z",
     "shell.execute_reply.started": "2022-02-11T13:19:32.136359Z"
    }
   },
   "outputs": [],
   "source": [
    "vgg16model = models.load_model('./VGG16_model.hdf5')"
   ]
  },
  {
   "cell_type": "code",
   "execution_count": 11,
   "metadata": {
    "execution": {
     "iopub.execute_input": "2022-02-11T13:19:58.714992Z",
     "iopub.status.busy": "2022-02-11T13:19:58.714448Z",
     "iopub.status.idle": "2022-02-11T13:20:01.973734Z",
     "shell.execute_reply": "2022-02-11T13:20:01.973043Z",
     "shell.execute_reply.started": "2022-02-11T13:19:58.714956Z"
    }
   },
   "outputs": [],
   "source": [
    "test_loss, test_acc = vgg16model.evaluate(X_test_p , y_test_p, batch_size= 32, verbose=2)\n",
    "print(\"test_loss = \", test_loss)\n",
    "print(\"test_acc = \", test_acc)"
   ]
  },
  {
   "cell_type": "code",
   "execution_count": null,
   "metadata": {},
   "outputs": [],
   "source": []
  },
  {
   "cell_type": "code",
   "execution_count": null,
   "metadata": {},
   "outputs": [],
   "source": []
  }
 ],
 "metadata": {
  "kernelspec": {
   "display_name": "Python 3 (ipykernel)",
   "language": "python",
   "name": "python3"
  },
  "language_info": {
   "codemirror_mode": {
    "name": "ipython",
    "version": 3
   },
   "file_extension": ".py",
   "mimetype": "text/x-python",
   "name": "python",
   "nbconvert_exporter": "python",
   "pygments_lexer": "ipython3",
   "version": "3.8.12"
  }
 },
 "nbformat": 4,
 "nbformat_minor": 4
}
